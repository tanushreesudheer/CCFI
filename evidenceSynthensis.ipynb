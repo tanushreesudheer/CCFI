{
 "cells": [
  {
   "cell_type": "code",
   "execution_count": 1,
   "metadata": {},
   "outputs": [],
   "source": [
    "%%capture\n",
    "%pip install datasets\n",
    "%pip install transformers\n",
    "%pip install accelerate\n",
    "%pip install matplotlib\n",
    "%pip install sklearn\n",
    "%pip install nltk\n",
    "%pip install numpy==<1.18.0 >\n",
    "\n",
    "import os\n",
    "os.environ['PYTORCH_ENABLE_MPS_FALLBACK'] = '1'"
   ]
  },
  {
   "cell_type": "code",
   "execution_count": 2,
   "metadata": {},
   "outputs": [
    {
     "name": "stdout",
     "output_type": "stream",
     "text": [
      "In the dataset there are 24906 rows and 6 columns\n",
      "Columns: ['id' 'doi' 'title' 'publication_year' 'abstract' 'authors']\n"
     ]
    },
    {
     "data": {
      "text/html": [
       "<div>\n",
       "<style scoped>\n",
       "    .dataframe tbody tr th:only-of-type {\n",
       "        vertical-align: middle;\n",
       "    }\n",
       "\n",
       "    .dataframe tbody tr th {\n",
       "        vertical-align: top;\n",
       "    }\n",
       "\n",
       "    .dataframe thead th {\n",
       "        text-align: right;\n",
       "    }\n",
       "</style>\n",
       "<table border=\"1\" class=\"dataframe\">\n",
       "  <thead>\n",
       "    <tr style=\"text-align: right;\">\n",
       "      <th></th>\n",
       "      <th>id</th>\n",
       "      <th>doi</th>\n",
       "      <th>title</th>\n",
       "      <th>publication_year</th>\n",
       "      <th>abstract</th>\n",
       "      <th>authors</th>\n",
       "    </tr>\n",
       "  </thead>\n",
       "  <tbody>\n",
       "    <tr>\n",
       "      <th>0</th>\n",
       "      <td>https://openalex.org/W2076977109</td>\n",
       "      <td>https://doi.org/10.1038/nature03906</td>\n",
       "      <td>Increasing destructiveness of tropical cyclone...</td>\n",
       "      <td>2005</td>\n",
       "      <td>NaN</td>\n",
       "      <td>Kerry Emanuel</td>\n",
       "    </tr>\n",
       "    <tr>\n",
       "      <th>1</th>\n",
       "      <td>https://openalex.org/W2171979944</td>\n",
       "      <td>https://doi.org/10.1007/s00425-003-1105-5</td>\n",
       "      <td>Plant responses to drought, salinity and extre...</td>\n",
       "      <td>2003</td>\n",
       "      <td>NaN</td>\n",
       "      <td>Wang-Xia Wang, Basia Vinocur, Arie Altman</td>\n",
       "    </tr>\n",
       "    <tr>\n",
       "      <th>2</th>\n",
       "      <td>https://openalex.org/W2122582889</td>\n",
       "      <td>https://doi.org/10.1073/pnas.0505734102</td>\n",
       "      <td>Regional vegetation die-off in response to glo...</td>\n",
       "      <td>2005</td>\n",
       "      <td>Future drought is projected to occur under war...</td>\n",
       "      <td>David D. Breshears, Neil S. Cobb, Paul Rich, K...</td>\n",
       "    </tr>\n",
       "    <tr>\n",
       "      <th>3</th>\n",
       "      <td>https://openalex.org/W2170327428</td>\n",
       "      <td>https://doi.org/10.1073/pnas.1422385112</td>\n",
       "      <td>Anthropogenic warming has increased drought ri...</td>\n",
       "      <td>2015</td>\n",
       "      <td>Significance California ranks first in the Uni...</td>\n",
       "      <td>Noah S. Diffenbaugh, Daniel L. Swain, Danielle...</td>\n",
       "    </tr>\n",
       "    <tr>\n",
       "      <th>4</th>\n",
       "      <td>https://openalex.org/W2154180993</td>\n",
       "      <td>https://doi.org/10.1038/nature04188</td>\n",
       "      <td>Impact of regional climate change on human health</td>\n",
       "      <td>2005</td>\n",
       "      <td>NaN</td>\n",
       "      <td>Jonathan A. Patz, Diarmid Campbell-Lendrum, Tr...</td>\n",
       "    </tr>\n",
       "  </tbody>\n",
       "</table>\n",
       "</div>"
      ],
      "text/plain": [
       "                                 id  \\\n",
       "0  https://openalex.org/W2076977109   \n",
       "1  https://openalex.org/W2171979944   \n",
       "2  https://openalex.org/W2122582889   \n",
       "3  https://openalex.org/W2170327428   \n",
       "4  https://openalex.org/W2154180993   \n",
       "\n",
       "                                         doi  \\\n",
       "0        https://doi.org/10.1038/nature03906   \n",
       "1  https://doi.org/10.1007/s00425-003-1105-5   \n",
       "2    https://doi.org/10.1073/pnas.0505734102   \n",
       "3    https://doi.org/10.1073/pnas.1422385112   \n",
       "4        https://doi.org/10.1038/nature04188   \n",
       "\n",
       "                                               title  publication_year  \\\n",
       "0  Increasing destructiveness of tropical cyclone...              2005   \n",
       "1  Plant responses to drought, salinity and extre...              2003   \n",
       "2  Regional vegetation die-off in response to glo...              2005   \n",
       "3  Anthropogenic warming has increased drought ri...              2015   \n",
       "4  Impact of regional climate change on human health              2005   \n",
       "\n",
       "                                            abstract  \\\n",
       "0                                                NaN   \n",
       "1                                                NaN   \n",
       "2  Future drought is projected to occur under war...   \n",
       "3  Significance California ranks first in the Uni...   \n",
       "4                                                NaN   \n",
       "\n",
       "                                             authors  \n",
       "0                                      Kerry Emanuel  \n",
       "1          Wang-Xia Wang, Basia Vinocur, Arie Altman  \n",
       "2  David D. Breshears, Neil S. Cobb, Paul Rich, K...  \n",
       "3  Noah S. Diffenbaugh, Daniel L. Swain, Danielle...  \n",
       "4  Jonathan A. Patz, Diarmid Campbell-Lendrum, Tr...  "
      ]
     },
     "execution_count": 2,
     "metadata": {},
     "output_type": "execute_result"
    }
   ],
   "source": [
    "import pandas as pd\n",
    "import matplotlib.pyplot as plt\n",
    "import numpy as np\n",
    "import re\n",
    "\n",
    "unlabelledData = pd.read_csv(\"NLP_data/openalex_data.csv\")\n",
    "\n",
    "print(f'In the dataset there are {unlabelledData.shape[0]} rows and {unlabelledData.shape[1]} columns')\n",
    "print(f'Columns: {unlabelledData.columns.values}')\n",
    "unlabelledData.head()"
   ]
  },
  {
   "cell_type": "code",
   "execution_count": 3,
   "metadata": {},
   "outputs": [
    {
     "name": "stdout",
     "output_type": "stream",
     "text": [
      "(24906, 6)\n"
     ]
    },
    {
     "data": {
      "text/plain": [
       "<AxesSubplot:xlabel='publication_year'>"
      ]
     },
     "execution_count": 3,
     "metadata": {},
     "output_type": "execute_result"
    },
    {
     "data": {
      "image/png": "[encoded data removed]",
      "text/plain": [
       "<Figure size 640x480 with 1 Axes>"
      ]
     },
     "metadata": {},
     "output_type": "display_data"
    }
   ],
   "source": [
    "#Prinitng the number of articles published after the Paris agreement in 2015\n",
    "print(unlabelledData.shape)\n",
    "unlabelledData.query(\"publication_year>2015\").groupby(\"publication_year\")[\"id\"].count().plot()"
   ]
  },
  {
   "cell_type": "code",
   "execution_count": 4,
   "metadata": {},
   "outputs": [
    {
     "name": "stdout",
     "output_type": "stream",
     "text": [
      "(2500, 10)\n"
     ]
    },
    {
     "data": {
      "text/html": [
       "<div>\n",
       "<style scoped>\n",
       "    .dataframe tbody tr th:only-of-type {\n",
       "        vertical-align: middle;\n",
       "    }\n",
       "\n",
       "    .dataframe tbody tr th {\n",
       "        vertical-align: top;\n",
       "    }\n",
       "\n",
       "    .dataframe thead th {\n",
       "        text-align: right;\n",
       "    }\n",
       "</style>\n",
       "<table border=\"1\" class=\"dataframe\">\n",
       "  <thead>\n",
       "    <tr style=\"text-align: right;\">\n",
       "      <th></th>\n",
       "      <th>id</th>\n",
       "      <th>abstract</th>\n",
       "      <th>title</th>\n",
       "      <th>seen</th>\n",
       "      <th>INCLUDE</th>\n",
       "      <th>12 - Coastal and marine Ecosystems</th>\n",
       "      <th>12 - Human and managed</th>\n",
       "      <th>12 - Mountains, snow and ice</th>\n",
       "      <th>12 - Rivers, lakes, and soil moisture</th>\n",
       "      <th>12 - Terrestrial ES</th>\n",
       "    </tr>\n",
       "  </thead>\n",
       "  <tbody>\n",
       "    <tr>\n",
       "      <th>0</th>\n",
       "      <td>1448689</td>\n",
       "      <td>The city of Bismarck, North Dakota has one of ...</td>\n",
       "      <td>Key Factors Influencing the Incidence of West ...</td>\n",
       "      <td>1.0</td>\n",
       "      <td>0.0</td>\n",
       "      <td>0.0</td>\n",
       "      <td>1.0</td>\n",
       "      <td>0.0</td>\n",
       "      <td>0.0</td>\n",
       "      <td>0.0</td>\n",
       "    </tr>\n",
       "    <tr>\n",
       "      <th>1</th>\n",
       "      <td>3281128</td>\n",
       "      <td>Changing precipitation regimes can profoundly ...</td>\n",
       "      <td>Asymmetric responses of plant community struct...</td>\n",
       "      <td>1.0</td>\n",
       "      <td>1.0</td>\n",
       "      <td>0.0</td>\n",
       "      <td>0.0</td>\n",
       "      <td>0.0</td>\n",
       "      <td>0.0</td>\n",
       "      <td>1.0</td>\n",
       "    </tr>\n",
       "    <tr>\n",
       "      <th>2</th>\n",
       "      <td>900708</td>\n",
       "      <td>Climate influences forest structure through ef...</td>\n",
       "      <td>Climate effects on fire regimes and tree recru...</td>\n",
       "      <td>1.0</td>\n",
       "      <td>1.0</td>\n",
       "      <td>0.0</td>\n",
       "      <td>0.0</td>\n",
       "      <td>0.0</td>\n",
       "      <td>0.0</td>\n",
       "      <td>1.0</td>\n",
       "    </tr>\n",
       "    <tr>\n",
       "      <th>3</th>\n",
       "      <td>3234419</td>\n",
       "      <td>Climate change is likely to bring more, hotter...</td>\n",
       "      <td>Climate change adaptation and mitigation ? a h...</td>\n",
       "      <td>1.0</td>\n",
       "      <td>1.0</td>\n",
       "      <td>0.0</td>\n",
       "      <td>1.0</td>\n",
       "      <td>0.0</td>\n",
       "      <td>0.0</td>\n",
       "      <td>0.0</td>\n",
       "    </tr>\n",
       "    <tr>\n",
       "      <th>4</th>\n",
       "      <td>2090028</td>\n",
       "      <td>Aim The long-term stability of coastal ecosyst...</td>\n",
       "      <td>Caribbean mangroves adjust to rising sea level...</td>\n",
       "      <td>1.0</td>\n",
       "      <td>1.0</td>\n",
       "      <td>1.0</td>\n",
       "      <td>0.0</td>\n",
       "      <td>0.0</td>\n",
       "      <td>0.0</td>\n",
       "      <td>0.0</td>\n",
       "    </tr>\n",
       "  </tbody>\n",
       "</table>\n",
       "</div>"
      ],
      "text/plain": [
       "        id                                           abstract  \\\n",
       "0  1448689  The city of Bismarck, North Dakota has one of ...   \n",
       "1  3281128  Changing precipitation regimes can profoundly ...   \n",
       "2   900708  Climate influences forest structure through ef...   \n",
       "3  3234419  Climate change is likely to bring more, hotter...   \n",
       "4  2090028  Aim The long-term stability of coastal ecosyst...   \n",
       "\n",
       "                                               title  seen  INCLUDE  \\\n",
       "0  Key Factors Influencing the Incidence of West ...   1.0      0.0   \n",
       "1  Asymmetric responses of plant community struct...   1.0      1.0   \n",
       "2  Climate effects on fire regimes and tree recru...   1.0      1.0   \n",
       "3  Climate change adaptation and mitigation ? a h...   1.0      1.0   \n",
       "4  Caribbean mangroves adjust to rising sea level...   1.0      1.0   \n",
       "\n",
       "   12 - Coastal and marine Ecosystems  12 - Human and managed  \\\n",
       "0                                 0.0                     1.0   \n",
       "1                                 0.0                     0.0   \n",
       "2                                 0.0                     0.0   \n",
       "3                                 0.0                     1.0   \n",
       "4                                 1.0                     0.0   \n",
       "\n",
       "   12 - Mountains, snow and ice  12 - Rivers, lakes, and soil moisture  \\\n",
       "0                           0.0                                    0.0   \n",
       "1                           0.0                                    0.0   \n",
       "2                           0.0                                    0.0   \n",
       "3                           0.0                                    0.0   \n",
       "4                           0.0                                    0.0   \n",
       "\n",
       "   12 - Terrestrial ES  \n",
       "0                  0.0  \n",
       "1                  1.0  \n",
       "2                  1.0  \n",
       "3                  0.0  \n",
       "4                  0.0  "
      ]
     },
     "execution_count": 4,
     "metadata": {},
     "output_type": "execute_result"
    }
   ],
   "source": [
    "labelledData = pd.read_csv(\"NLP_data/labelled_data.csv\")\n",
    "\n",
    "# create a lower case version of the title without spaces and punctuation, to allow for merging\n",
    "# labelledData[\"title_lcase\"] = labelledData[\"title\"].apply(lambda x: re.sub(\"\\W\", \"\", x).lower() if isinstance(x, str) else x)\n",
    "\n",
    "#Data cleaning:\n",
    "# dropping articles without abstracts\n",
    "labelledData = labelledData.dropna(subset=[\"abstract\"])\n",
    "print(labelledData.shape)\n",
    "labelledData.head()"
   ]
  },
  {
   "cell_type": "code",
   "execution_count": 5,
   "metadata": {},
   "outputs": [
    {
     "data": {
      "text/plain": [
       "1.0    2500\n",
       "Name: seen, dtype: int64"
      ]
     },
     "execution_count": 5,
     "metadata": {},
     "output_type": "execute_result"
    }
   ],
   "source": [
    "labelledData['seen'].value_counts()"
   ]
  },
  {
   "cell_type": "code",
   "execution_count": 6,
   "metadata": {},
   "outputs": [
    {
     "name": "stdout",
     "output_type": "stream",
     "text": [
      "The dataset has 18556 rows and 7 columns\n"
     ]
    },
    {
     "data": {
      "text/html": [
       "<div>\n",
       "<style scoped>\n",
       "    .dataframe tbody tr th:only-of-type {\n",
       "        vertical-align: middle;\n",
       "    }\n",
       "\n",
       "    .dataframe tbody tr th {\n",
       "        vertical-align: top;\n",
       "    }\n",
       "\n",
       "    .dataframe thead th {\n",
       "        text-align: right;\n",
       "    }\n",
       "</style>\n",
       "<table border=\"1\" class=\"dataframe\">\n",
       "  <thead>\n",
       "    <tr style=\"text-align: right;\">\n",
       "      <th></th>\n",
       "      <th>OA_id</th>\n",
       "      <th>doi</th>\n",
       "      <th>title</th>\n",
       "      <th>publication_year</th>\n",
       "      <th>abstract</th>\n",
       "      <th>authors</th>\n",
       "      <th>seen</th>\n",
       "    </tr>\n",
       "  </thead>\n",
       "  <tbody>\n",
       "    <tr>\n",
       "      <th>2</th>\n",
       "      <td>https://openalex.org/W2122582889</td>\n",
       "      <td>https://doi.org/10.1073/pnas.0505734102</td>\n",
       "      <td>Regional vegetation die-off in response to glo...</td>\n",
       "      <td>2005</td>\n",
       "      <td>Future drought is projected to occur under war...</td>\n",
       "      <td>David D. Breshears, Neil S. Cobb, Paul Rich, K...</td>\n",
       "      <td>0</td>\n",
       "    </tr>\n",
       "    <tr>\n",
       "      <th>3</th>\n",
       "      <td>https://openalex.org/W2170327428</td>\n",
       "      <td>https://doi.org/10.1073/pnas.1422385112</td>\n",
       "      <td>Anthropogenic warming has increased drought ri...</td>\n",
       "      <td>2015</td>\n",
       "      <td>Significance California ranks first in the Uni...</td>\n",
       "      <td>Noah S. Diffenbaugh, Daniel L. Swain, Danielle...</td>\n",
       "      <td>0</td>\n",
       "    </tr>\n",
       "    <tr>\n",
       "      <th>6</th>\n",
       "      <td>https://openalex.org/W2145638163</td>\n",
       "      <td>https://doi.org/10.1098/rstb.2010.0021</td>\n",
       "      <td>Community and ecosystem responses to recent cl...</td>\n",
       "      <td>2010</td>\n",
       "      <td>There is ample evidence for ecological respons...</td>\n",
       "      <td>Gian-Reto Walther</td>\n",
       "      <td>0</td>\n",
       "    </tr>\n",
       "    <tr>\n",
       "      <th>7</th>\n",
       "      <td>https://openalex.org/W2120998920</td>\n",
       "      <td>https://doi.org/10.1016/j.tree.2004.07.021</td>\n",
       "      <td>Emerging infectious diseases of plants: pathog...</td>\n",
       "      <td>2004</td>\n",
       "      <td>Emerging infectious diseases (EIDs) pose threa...</td>\n",
       "      <td>Pamela Sue Anderson, Andrew A. Cunningham, Nik...</td>\n",
       "      <td>0</td>\n",
       "    </tr>\n",
       "    <tr>\n",
       "      <th>8</th>\n",
       "      <td>https://openalex.org/W2085588880</td>\n",
       "      <td>https://doi.org/10.1111/j.1365-2486.2007.01404.x</td>\n",
       "      <td>Influences of species, latitudes and methodolo...</td>\n",
       "      <td>2007</td>\n",
       "      <td>New analyses are presented addressing the glob...</td>\n",
       "      <td>Camille Parmesan</td>\n",
       "      <td>0</td>\n",
       "    </tr>\n",
       "  </tbody>\n",
       "</table>\n",
       "</div>"
      ],
      "text/plain": [
       "                              OA_id  \\\n",
       "2  https://openalex.org/W2122582889   \n",
       "3  https://openalex.org/W2170327428   \n",
       "6  https://openalex.org/W2145638163   \n",
       "7  https://openalex.org/W2120998920   \n",
       "8  https://openalex.org/W2085588880   \n",
       "\n",
       "                                                doi  \\\n",
       "2           https://doi.org/10.1073/pnas.0505734102   \n",
       "3           https://doi.org/10.1073/pnas.1422385112   \n",
       "6            https://doi.org/10.1098/rstb.2010.0021   \n",
       "7        https://doi.org/10.1016/j.tree.2004.07.021   \n",
       "8  https://doi.org/10.1111/j.1365-2486.2007.01404.x   \n",
       "\n",
       "                                               title  publication_year  \\\n",
       "2  Regional vegetation die-off in response to glo...              2005   \n",
       "3  Anthropogenic warming has increased drought ri...              2015   \n",
       "6  Community and ecosystem responses to recent cl...              2010   \n",
       "7  Emerging infectious diseases of plants: pathog...              2004   \n",
       "8  Influences of species, latitudes and methodolo...              2007   \n",
       "\n",
       "                                            abstract  \\\n",
       "2  Future drought is projected to occur under war...   \n",
       "3  Significance California ranks first in the Uni...   \n",
       "6  There is ample evidence for ecological respons...   \n",
       "7  Emerging infectious diseases (EIDs) pose threa...   \n",
       "8  New analyses are presented addressing the glob...   \n",
       "\n",
       "                                             authors  seen  \n",
       "2  David D. Breshears, Neil S. Cobb, Paul Rich, K...     0  \n",
       "3  Noah S. Diffenbaugh, Daniel L. Swain, Danielle...     0  \n",
       "6                                  Gian-Reto Walther     0  \n",
       "7  Pamela Sue Anderson, Andrew A. Cunningham, Nik...     0  \n",
       "8                                   Camille Parmesan     0  "
      ]
     },
     "execution_count": 6,
     "metadata": {},
     "output_type": "execute_result"
    }
   ],
   "source": [
    "# load the unlabelled Open alex data, and create the same title variable for merging\n",
    "\n",
    "unlabelledData = unlabelledData.rename(columns={\"id\": \"OA_id\"})\n",
    "\n",
    "#Data cleaning:\n",
    "# dropping articles without abstracts\n",
    "unlabelledData = unlabelledData.dropna(subset=[\"abstract\"])\n",
    "unlabelledData.loc[:, \"seen\"] = 0\n",
    "print(f'The dataset has {unlabelledData.shape[0]} rows and {unlabelledData.shape[1]} columns')\n",
    "unlabelledData.head()"
   ]
  },
  {
   "cell_type": "code",
   "execution_count": 7,
   "metadata": {},
   "outputs": [
    {
     "name": "stdout",
     "output_type": "stream",
     "text": [
      "(21056, 14)\n"
     ]
    },
    {
     "data": {
      "text/html": [
       "<div>\n",
       "<style scoped>\n",
       "    .dataframe tbody tr th:only-of-type {\n",
       "        vertical-align: middle;\n",
       "    }\n",
       "\n",
       "    .dataframe tbody tr th {\n",
       "        vertical-align: top;\n",
       "    }\n",
       "\n",
       "    .dataframe thead th {\n",
       "        text-align: right;\n",
       "    }\n",
       "</style>\n",
       "<table border=\"1\" class=\"dataframe\">\n",
       "  <thead>\n",
       "    <tr style=\"text-align: right;\">\n",
       "      <th></th>\n",
       "      <th>id</th>\n",
       "      <th>abstract</th>\n",
       "      <th>title</th>\n",
       "      <th>seen</th>\n",
       "      <th>INCLUDE</th>\n",
       "      <th>12 - Coastal and marine Ecosystems</th>\n",
       "      <th>12 - Human and managed</th>\n",
       "      <th>12 - Mountains, snow and ice</th>\n",
       "      <th>12 - Rivers, lakes, and soil moisture</th>\n",
       "      <th>12 - Terrestrial ES</th>\n",
       "      <th>OA_id</th>\n",
       "      <th>doi</th>\n",
       "      <th>publication_year</th>\n",
       "      <th>authors</th>\n",
       "    </tr>\n",
       "  </thead>\n",
       "  <tbody>\n",
       "    <tr>\n",
       "      <th>0</th>\n",
       "      <td>1448689.0</td>\n",
       "      <td>The city of Bismarck, North Dakota has one of ...</td>\n",
       "      <td>Key Factors Influencing the Incidence of West ...</td>\n",
       "      <td>1.0</td>\n",
       "      <td>0.0</td>\n",
       "      <td>0.0</td>\n",
       "      <td>1.0</td>\n",
       "      <td>0.0</td>\n",
       "      <td>0.0</td>\n",
       "      <td>0.0</td>\n",
       "      <td>NaN</td>\n",
       "      <td>NaN</td>\n",
       "      <td>NaN</td>\n",
       "      <td>NaN</td>\n",
       "    </tr>\n",
       "    <tr>\n",
       "      <th>1</th>\n",
       "      <td>3281128.0</td>\n",
       "      <td>Changing precipitation regimes can profoundly ...</td>\n",
       "      <td>Asymmetric responses of plant community struct...</td>\n",
       "      <td>1.0</td>\n",
       "      <td>1.0</td>\n",
       "      <td>0.0</td>\n",
       "      <td>0.0</td>\n",
       "      <td>0.0</td>\n",
       "      <td>0.0</td>\n",
       "      <td>1.0</td>\n",
       "      <td>NaN</td>\n",
       "      <td>NaN</td>\n",
       "      <td>NaN</td>\n",
       "      <td>NaN</td>\n",
       "    </tr>\n",
       "    <tr>\n",
       "      <th>2</th>\n",
       "      <td>900708.0</td>\n",
       "      <td>Climate influences forest structure through ef...</td>\n",
       "      <td>Climate effects on fire regimes and tree recru...</td>\n",
       "      <td>1.0</td>\n",
       "      <td>1.0</td>\n",
       "      <td>0.0</td>\n",
       "      <td>0.0</td>\n",
       "      <td>0.0</td>\n",
       "      <td>0.0</td>\n",
       "      <td>1.0</td>\n",
       "      <td>NaN</td>\n",
       "      <td>NaN</td>\n",
       "      <td>NaN</td>\n",
       "      <td>NaN</td>\n",
       "    </tr>\n",
       "    <tr>\n",
       "      <th>3</th>\n",
       "      <td>3234419.0</td>\n",
       "      <td>Climate change is likely to bring more, hotter...</td>\n",
       "      <td>Climate change adaptation and mitigation ? a h...</td>\n",
       "      <td>1.0</td>\n",
       "      <td>1.0</td>\n",
       "      <td>0.0</td>\n",
       "      <td>1.0</td>\n",
       "      <td>0.0</td>\n",
       "      <td>0.0</td>\n",
       "      <td>0.0</td>\n",
       "      <td>NaN</td>\n",
       "      <td>NaN</td>\n",
       "      <td>NaN</td>\n",
       "      <td>NaN</td>\n",
       "    </tr>\n",
       "    <tr>\n",
       "      <th>4</th>\n",
       "      <td>2090028.0</td>\n",
       "      <td>Aim The long-term stability of coastal ecosyst...</td>\n",
       "      <td>Caribbean mangroves adjust to rising sea level...</td>\n",
       "      <td>1.0</td>\n",
       "      <td>1.0</td>\n",
       "      <td>1.0</td>\n",
       "      <td>0.0</td>\n",
       "      <td>0.0</td>\n",
       "      <td>0.0</td>\n",
       "      <td>0.0</td>\n",
       "      <td>NaN</td>\n",
       "      <td>NaN</td>\n",
       "      <td>NaN</td>\n",
       "      <td>NaN</td>\n",
       "    </tr>\n",
       "  </tbody>\n",
       "</table>\n",
       "</div>"
      ],
      "text/plain": [
       "          id                                           abstract  \\\n",
       "0  1448689.0  The city of Bismarck, North Dakota has one of ...   \n",
       "1  3281128.0  Changing precipitation regimes can profoundly ...   \n",
       "2   900708.0  Climate influences forest structure through ef...   \n",
       "3  3234419.0  Climate change is likely to bring more, hotter...   \n",
       "4  2090028.0  Aim The long-term stability of coastal ecosyst...   \n",
       "\n",
       "                                               title  seen  INCLUDE  \\\n",
       "0  Key Factors Influencing the Incidence of West ...   1.0      0.0   \n",
       "1  Asymmetric responses of plant community struct...   1.0      1.0   \n",
       "2  Climate effects on fire regimes and tree recru...   1.0      1.0   \n",
       "3  Climate change adaptation and mitigation ? a h...   1.0      1.0   \n",
       "4  Caribbean mangroves adjust to rising sea level...   1.0      1.0   \n",
       "\n",
       "   12 - Coastal and marine Ecosystems  12 - Human and managed  \\\n",
       "0                                 0.0                     1.0   \n",
       "1                                 0.0                     0.0   \n",
       "2                                 0.0                     0.0   \n",
       "3                                 0.0                     1.0   \n",
       "4                                 1.0                     0.0   \n",
       "\n",
       "   12 - Mountains, snow and ice  12 - Rivers, lakes, and soil moisture  \\\n",
       "0                           0.0                                    0.0   \n",
       "1                           0.0                                    0.0   \n",
       "2                           0.0                                    0.0   \n",
       "3                           0.0                                    0.0   \n",
       "4                           0.0                                    0.0   \n",
       "\n",
       "   12 - Terrestrial ES OA_id  doi  publication_year authors  \n",
       "0                  0.0   NaN  NaN               NaN     NaN  \n",
       "1                  1.0   NaN  NaN               NaN     NaN  \n",
       "2                  1.0   NaN  NaN               NaN     NaN  \n",
       "3                  0.0   NaN  NaN               NaN     NaN  \n",
       "4                  0.0   NaN  NaN               NaN     NaN  "
      ]
     },
     "execution_count": 7,
     "metadata": {},
     "output_type": "execute_result"
    }
   ],
   "source": [
    "# combining both labeled and unlabeled data\n",
    "\n",
    "df = pd.concat(\n",
    "    [labelledData, unlabelledData]\n",
    ")\n",
    "print(df.shape)\n",
    "df.head()"
   ]
  },
  {
   "cell_type": "code",
   "execution_count": 8,
   "metadata": {},
   "outputs": [
    {
     "name": "stdout",
     "output_type": "stream",
     "text": [
      "Number of seen vs. unseen documents\n",
      "seen\n",
      "0.0    18547\n",
      "1.0     2500\n",
      "Name: title, dtype: int64\n",
      "--------------------------------------------------------------------------------\n"
     ]
    },
    {
     "data": {
      "image/png": "[encoded data removed]",
      "text/plain": [
       "<Figure size 640x480 with 1 Axes>"
      ]
     },
     "metadata": {},
     "output_type": "display_data"
    }
   ],
   "source": [
    "def inspect_labels(df):\n",
    "    # We can quickly plot how many documents have been labelled, and how many not\n",
    "    df.groupby(\"seen\")[\"title\"].count().plot.bar();\n",
    "    print('Number of seen vs. unseen documents')\n",
    "    print(df.groupby(\"seen\")[\"title\"].count())\n",
    "    print('-'*80)\n",
    "    \n",
    "impacts = [x for x in df.columns if re.match(\"12 -\", x)]\n",
    "inspect_labels(df)"
   ]
  },
  {
   "cell_type": "code",
   "execution_count": 9,
   "metadata": {},
   "outputs": [
    {
     "data": {
      "image/png": "[encoded data removed]",
      "text/plain": [
       "<Figure size 640x480 with 1 Axes>"
      ]
     },
     "metadata": {},
     "output_type": "display_data"
    }
   ],
   "source": [
    "def inspect_labels(df):\n",
    "\n",
    "    df.groupby(\"INCLUDE\")[\"title\"].count().plot.bar()\n",
    "\n",
    "impacts = [x for x in df.columns if re.match(\"12 -\", x)]\n",
    "inspect_labels(df)"
   ]
  },
  {
   "cell_type": "code",
   "execution_count": 10,
   "metadata": {},
   "outputs": [
    {
     "name": "stdout",
     "output_type": "stream",
     "text": [
      "Number of included vs. excluded documents\n",
      "INCLUDE\n",
      "0.0    1194\n",
      "1.0    1306\n",
      "Name: title, dtype: int64\n"
     ]
    },
    {
     "data": {
      "image/png": "[encoded data removed]",
      "text/plain": [
       "<Figure size 640x480 with 1 Axes>"
      ]
     },
     "metadata": {},
     "output_type": "display_data"
    }
   ],
   "source": [
    "def inspect_labels(df):\n",
    "  \n",
    "    print('Number of included vs. excluded documents')\n",
    "    print(df.groupby(\"INCLUDE\")[\"title\"].count())\n",
    "    # Finally we can plot how many examples of each impact type we have\n",
    "    df[impacts].sum().plot.barh();\n",
    "impacts = [x for x in df.columns if re.match(\"12 -\", x)]\n",
    "inspect_labels(df)"
   ]
  },
  {
   "cell_type": "code",
   "execution_count": 11,
   "metadata": {},
   "outputs": [],
   "source": [
    "from sklearn.model_selection import train_test_split\n",
    "def train_test_split_df(df):\n",
    "    ''' Gets train/test splits for INCLUDE prediction task.\n",
    "    '''\n",
    "    # select only the seen documents\n",
    "    all_seen = df[df[\"seen\"] == 1].sample(2000).index\n",
    "    all_x = df[df[\"seen\"] == 1][\"abstract\"].values\n",
    "    all_y = df[df[\"seen\"] == 1][\"INCLUDE\"].values.astype(int)\n",
    "    # percent of data to use for train, val, test\n",
    "    train_size = 0.8\n",
    "    # train_size = 0.01\n",
    "    # get the indices for each split\n",
    "    x_train, x_test, y_train, y_test = train_test_split(all_x, all_y, train_size=train_size, random_state=42)\n",
    "    assert len(x_train) == len(y_train)\n",
    "    assert len(x_test) == len(y_test)\n",
    "    print (f\"Train size: {len(x_train)}\")\n",
    "    print (f\"Test size: {len(x_test)}\")\n",
    "    return x_train, y_train, x_test, y_test"
   ]
  },
  {
   "cell_type": "markdown",
   "metadata": {},
   "source": [
    "Pipeline for a simple machine learning model"
   ]
  },
  {
   "cell_type": "code",
   "execution_count": 12,
   "metadata": {},
   "outputs": [],
   "source": [
    "def visualize_doc_vec(X, features=None):\n",
    "    '''Simple function to visualise a document-term matrix'''\n",
    "    print('Document-term matrix:\\n', X.todense())\n",
    "    # And we could visualise this simply like this\n",
    "    fig, ax = plt.subplots()\n",
    "    doc_map = ax.imshow(X.todense(), cmap=\"Blues\")\n",
    "    ax.set_xticks(np.arange(len(features)))\n",
    "    ax.set_xticklabels(features, rotation=45, ha=\"right\")\n",
    "    cbar = fig.colorbar(doc_map)\n",
    "    plt.show()"
   ]
  },
  {
   "cell_type": "code",
   "execution_count": 13,
   "metadata": {},
   "outputs": [
    {
     "name": "stdout",
     "output_type": "stream",
     "text": [
      "Document-term matrix:\n",
      " [[0 0 0 1 0 1 1 0 1 0 1 0 1 0 0 0 0 1 0 0 0 0 0]\n",
      " [1 1 0 0 0 0 0 0 0 1 0 0 0 1 0 0 1 0 1 1 1 1 0]\n",
      " [0 0 1 0 1 0 1 1 0 0 0 1 0 0 1 1 0 0 0 0 0 0 1]]\n"
     ]
    },
    {
     "data": {
      "image/png": "[encoded data removed]",
      "text/plain": [
       "<Figure size 640x480 with 2 Axes>"
      ]
     },
     "metadata": {},
     "output_type": "display_data"
    }
   ],
   "source": [
    "from nltk.stem.porter import PorterStemmer\n",
    "from sklearn.feature_extraction.text import CountVectorizer, TfidfVectorizer\n",
    "\n",
    "\n",
    "def show_raw_counts(texts):\n",
    "    '''\n",
    "    Function to show the raw counts of words in a corpus and visualize them.\n",
    "    '''\n",
    "    # We'll instantiate a vectorizer class\n",
    "    vectorizer = CountVectorizer()\n",
    "\n",
    "    # And apply the fit_transform method to our texts\n",
    "    X = vectorizer.fit_transform(texts)\n",
    "\n",
    "    # This gives us a matrix of shape n_texts, vocab_size\n",
    "    X.todense()\n",
    "\n",
    "    # The features each column represents can be accessed here\n",
    "    features = vectorizer.get_feature_names_out()\n",
    "    visualize_doc_vec(X, features)\n",
    "\n",
    "# Let's take for now a couple of example texts\n",
    "texts = [\n",
    "    \"Improved energy efficiency reduces greenhouse gas emissions\",\n",
    "    \"The Paris Agreement aims to limit global temperature rise\",\n",
    "    \"Load forecasting helps utilities manage energy demand efficiently\",\n",
    "]\n",
    "# And now lets visualize the raw word counts in our 3 sentences.\n",
    "show_raw_counts(texts)"
   ]
  },
  {
   "cell_type": "code",
   "execution_count": 14,
   "metadata": {},
   "outputs": [
    {
     "name": "stdout",
     "output_type": "stream",
     "text": [
      "Document-term matrix:\n",
      " [[0.         0.         0.         0.38988801 0.         0.38988801\n",
      "  0.29651988 0.         0.38988801 0.         0.38988801 0.\n",
      "  0.38988801 0.         0.         0.         0.         0.38988801\n",
      "  0.         0.         0.         0.         0.        ]\n",
      " [0.33333333 0.33333333 0.         0.         0.         0.\n",
      "  0.         0.         0.         0.33333333 0.         0.\n",
      "  0.         0.33333333 0.         0.         0.33333333 0.\n",
      "  0.33333333 0.33333333 0.33333333 0.33333333 0.        ]\n",
      " [0.         0.         0.36325471 0.         0.36325471 0.\n",
      "  0.27626457 0.36325471 0.         0.         0.         0.36325471\n",
      "  0.         0.         0.36325471 0.36325471 0.         0.\n",
      "  0.         0.         0.         0.         0.36325471]]\n"
     ]
    },
    {
     "data": {
      "image/png": "[encoded data removed]",
      "text/plain": [
       "<Figure size 640x480 with 2 Axes>"
      ]
     },
     "metadata": {},
     "output_type": "display_data"
    }
   ],
   "source": [
    "def show_tfidf(texts):\n",
    "    '''\n",
    "    Function to show the tf-idf scores of words in a corpus and visualize them.\n",
    "    '''\n",
    "    # We'll instantiate a term frequency - inverse document frequency vectorizer class\n",
    "    vectorizer = TfidfVectorizer()\n",
    "\n",
    "    # And apply the fit_transform method to our texts\n",
    "    X = vectorizer.fit_transform(texts)\n",
    "\n",
    "    # This gives us a matrix of shape n_texts, vocab_size\n",
    "    X.todense()\n",
    "\n",
    "    # The features each column represents can be accessed here\n",
    "    features = vectorizer.get_feature_names_out()\n",
    "    visualize_doc_vec(X, features)\n",
    "\n",
    "show_tfidf(texts)"
   ]
  },
  {
   "cell_type": "code",
   "execution_count": 15,
   "metadata": {},
   "outputs": [
    {
     "data": {
      "text/plain": [
       "Pipeline(steps=[('vect', TfidfVectorizer()),\n",
       "                ('clf', SVC(class_weight='balanced', probability=True))])"
      ]
     },
     "execution_count": 15,
     "metadata": {},
     "output_type": "execute_result"
    }
   ],
   "source": [
    "# From the above matrix we see that our model gives filler words like \"the\", \n",
    "# \"helps\", \"improved\" and most likely many other low weight words less\n",
    "# importance by using Term Frequency inverse document frequency\n",
    "from sklearn.pipeline import Pipeline\n",
    "from sklearn.svm import SVC\n",
    "\n",
    "def build_svm(dummy_data, y):\n",
    "    '''\n",
    "    Function to create a pipeline with a tf-idf vectorizer and a support vector machine classifier.\n",
    "    '''\n",
    "    svm_classifier = Pipeline(\n",
    "        steps=[\n",
    "            (\"vect\", TfidfVectorizer()),\n",
    "            (\"clf\", SVC(probability=True, class_weight=\"balanced\")),\n",
    "        ]\n",
    "    )\n",
    "    svm_classifier.fit(dummy_data, y)\n",
    "    return svm_classifier\n",
    "\n",
    "\n",
    "# Adding more dummy data on load forecasting, the Paris Agreement, and LULC\n",
    "dummy_data, y = zip(\n",
    "    *[\n",
    "        (\"Renewable energy is essential for mitigating climate change\", 1),\n",
    "        (\"The Paris Agreement aims to limit global temperature rise\", 1),\n",
    "        (\"Solar power generation is increasing worldwide\", 1),\n",
    "        (\"Load forecasting helps utilities manage energy demand efficiently\", 0),\n",
    "        (\"Transitioning to clean energy is necessary for sustainable development\", 1),\n",
    "        (\"Climate models predict more extreme weather events in the future\", 1),\n",
    "        (\"Improved energy efficiency reduces greenhouse gas emissions\", 0),\n",
    "        (\"Investing in wind farms helps reduce reliance on fossil fuels\", 1),\n",
    "        (\"Land use changes affect regional climate patterns\", 0),\n",
    "        (\"Hydropower plants provide clean and renewable energy\", 1),\n",
    "        (\"The electrification of transportation reduces carbon emissions\", 1),\n",
    "        (\"Carbon pricing mechanisms incentivize emission reductions\", 0),\n",
    "        (\"Urbanization alters local microclimates and energy demand\", 0),\n",
    "        (\"Smart grids optimize energy distribution and reduce wastage\", 0),\n",
    "        (\"Afforestation and reforestation projects sequester carbon dioxide\", 1),\n",
    "    ]\n",
    ")\n",
    "\n",
    "svm_classifier = build_svm(dummy_data, y)\n",
    "svm_classifier"
   ]
  },
  {
   "cell_type": "code",
   "execution_count": 16,
   "metadata": {},
   "outputs": [
    {
     "name": "stdout",
     "output_type": "stream",
     "text": [
      "predictions: [1 1 1]\n",
      "probabilities:\n",
      " [[0.72538528 0.27461472]\n",
      " [0.74632356 0.25367644]\n",
      " [0.74019081 0.25980919]]\n"
     ]
    }
   ],
   "source": [
    " #We can now use this classifier to make predictions about new texts\n",
    "new_texts = [\n",
    "    \"The effects of climate change on terrestrial ecosystems are alarming\",\n",
    "    \"Machine learning algorithms can contribute to mitigating climate change impacts\",\n",
    "    \"The beverage industry, including companies like Coca Cola, faces scrutiny for sugary drink production\",\n",
    "]\n",
    "# We can make predictions about which class the examples belong to\n",
    "print('predictions:', svm_classifier.predict(new_texts))\n",
    "# We can also get these as probabilities (which are very unstable with small datasets, and not guaranteed to match the predictions)\n",
    "print('probabilities:\\n', svm_classifier.predict_proba(new_texts))"
   ]
  },
  {
   "cell_type": "code",
   "execution_count": 17,
   "metadata": {},
   "outputs": [
    {
     "data": {
      "text/plain": [
       "array([0.27461472, 0.25367644, 0.25980919])"
      ]
     },
     "execution_count": 17,
     "metadata": {},
     "output_type": "execute_result"
    }
   ],
   "source": [
    "# Each row contains predicted probabilites for each class, in this case 0, and 1\n",
    "\n",
    "# We can get predicted probabilities of being in the INCLUDE class like this\n",
    "# One for each of the three examples\n",
    "svm_classifier.predict_proba(new_texts)[:, 1]"
   ]
  },
  {
   "cell_type": "code",
   "execution_count": 18,
   "metadata": {},
   "outputs": [
    {
     "name": "stdout",
     "output_type": "stream",
     "text": [
      "Train size: 2000\n",
      "Test size: 500\n",
      "              precision    recall  f1-score   support\n",
      "\n",
      "           0       0.84      0.78      0.81       235\n",
      "           1       0.82      0.87      0.84       265\n",
      "\n",
      "    accuracy                           0.83       500\n",
      "   macro avg       0.83      0.83      0.83       500\n",
      "weighted avg       0.83      0.83      0.83       500\n",
      "\n"
     ]
    }
   ],
   "source": [
    "from sklearn.metrics import classification_report\n",
    "\n",
    "def train_eval_svm(df):\n",
    "    # load the train/test splits\n",
    "    x_train, y_train, x_test, y_test = train_test_split_df(df)\n",
    "    # build the classifier\n",
    "    svm_classifier = build_svm(x_train, y_train)\n",
    "    # get the predictions on the test set\n",
    "    test_pred = svm_classifier.predict(x_test)\n",
    "    # Get the classification evaluation metrics\n",
    "    print(classification_report(y_test, test_pred))\n",
    "\n",
    "# So far this was an illustrative example using toy data. Let's now apply this to our real data.\n",
    "# takes around 20 seconds to run\n",
    "train_eval_svm(df)"
   ]
  },
  {
   "cell_type": "markdown",
   "metadata": {},
   "source": [
    "Multilabel"
   ]
  },
  {
   "cell_type": "code",
   "execution_count": 19,
   "metadata": {},
   "outputs": [
    {
     "data": {
      "image/png": "[encoded data removed]",
      "text/plain": [
       "<Figure size 640x480 with 1 Axes>"
      ]
     },
     "metadata": {},
     "output_type": "display_data"
    }
   ],
   "source": [
    "# This plot shows that certain documents have multiple labels for different impacts.\n",
    "plt.hist(df[df[\"INCLUDE\"] == 1][impacts].sum(axis=1));"
   ]
  },
  {
   "cell_type": "code",
   "execution_count": 20,
   "metadata": {},
   "outputs": [],
   "source": [
    "# create an x and y variable with a sample of 200 relevant documents\n",
    "samples = df[df[\"INCLUDE\"] == 1].sample(200).index\n",
    "X = df.iloc[samples][\"abstract\"]\n",
    "y = df.iloc[samples][impacts].values\n",
    "np.set_printoptions(threshold=5)"
   ]
  },
  {
   "cell_type": "code",
   "execution_count": 21,
   "metadata": {},
   "outputs": [
    {
     "data": {
      "text/plain": [
       "Pipeline(steps=[('vec', TfidfVectorizer()),\n",
       "                ('clf',\n",
       "                 OneVsRestClassifier(estimator=SVC(class_weight='balanced',\n",
       "                                                   probability=True)))])"
      ]
     },
     "execution_count": 21,
     "metadata": {},
     "output_type": "execute_result"
    }
   ],
   "source": [
    "from sklearn.multiclass import OneVsRestClassifier\n",
    "\n",
    "clf = Pipeline(\n",
    "    steps=[\n",
    "        (\"vec\", TfidfVectorizer()),\n",
    "        (\"clf\", OneVsRestClassifier(SVC(probability=True, class_weight=\"balanced\"))),\n",
    "    ]\n",
    ")\n",
    "\n",
    "clf.fit(X, y)"
   ]
  },
  {
   "cell_type": "code",
   "execution_count": 22,
   "metadata": {},
   "outputs": [
    {
     "data": {
      "text/html": [
       "<div>\n",
       "<style scoped>\n",
       "    .dataframe tbody tr th:only-of-type {\n",
       "        vertical-align: middle;\n",
       "    }\n",
       "\n",
       "    .dataframe tbody tr th {\n",
       "        vertical-align: top;\n",
       "    }\n",
       "\n",
       "    .dataframe thead th {\n",
       "        text-align: right;\n",
       "    }\n",
       "</style>\n",
       "<table border=\"1\" class=\"dataframe\">\n",
       "  <thead>\n",
       "    <tr style=\"text-align: right;\">\n",
       "      <th></th>\n",
       "      <th>12 - Coastal and marine Ecosystems</th>\n",
       "      <th>12 - Human and managed</th>\n",
       "      <th>12 - Mountains, snow and ice</th>\n",
       "      <th>12 - Rivers, lakes, and soil moisture</th>\n",
       "      <th>12 - Terrestrial ES</th>\n",
       "    </tr>\n",
       "  </thead>\n",
       "  <tbody>\n",
       "    <tr>\n",
       "      <th>0</th>\n",
       "      <td>0</td>\n",
       "      <td>0</td>\n",
       "      <td>0</td>\n",
       "      <td>0</td>\n",
       "      <td>0</td>\n",
       "    </tr>\n",
       "    <tr>\n",
       "      <th>1</th>\n",
       "      <td>0</td>\n",
       "      <td>0</td>\n",
       "      <td>0</td>\n",
       "      <td>0</td>\n",
       "      <td>0</td>\n",
       "    </tr>\n",
       "  </tbody>\n",
       "</table>\n",
       "</div>"
      ],
      "text/plain": [
       "   12 - Coastal and marine Ecosystems  12 - Human and managed  \\\n",
       "0                                   0                       0   \n",
       "1                                   0                       0   \n",
       "\n",
       "   12 - Mountains, snow and ice  12 - Rivers, lakes, and soil moisture  \\\n",
       "0                             0                                      0   \n",
       "1                             0                                      0   \n",
       "\n",
       "   12 - Terrestrial ES  \n",
       "0                    0  \n",
       "1                    0  "
      ]
     },
     "execution_count": 22,
     "metadata": {},
     "output_type": "execute_result"
    }
   ],
   "source": [
    "example_texts = [\n",
    "    \"Warmer temperatures over time are changing weather patterns and disrupting the usual balance of nature. This poses many risks to human beings and all other forms of life on Earth.\",\n",
    "    \"The average temperature of the Earth’s surface is now about 1.1°C warmer than it was in the late 1800s (before the industrial revolution) and warmer than at any time in the last 100,000 years. The last decade (2011-2020) was the warmest on record, and each of the last four decades has been warmer than any previous decade since 1850. \",\n",
    "]\n",
    "y_pred = clf.predict(example_texts)\n",
    "\n",
    "pd.DataFrame(y_pred, columns=impacts)"
   ]
  },
  {
   "cell_type": "markdown",
   "metadata": {},
   "source": [
    "Transfer Learning with Transformers"
   ]
  },
  {
   "cell_type": "code",
   "execution_count": 23,
   "metadata": {},
   "outputs": [],
   "source": [
    "# Each example is a tuple of (text, label)\n",
    "# Where a label is 1 if the text is relevant and should be included in a synthesis report and 0 otherwise\n",
    "texts, y = zip(\n",
    "    *[\n",
    "        (\"Renewable energy is essential for mitigating climate change\", 1),\n",
    "        (\"The Paris Agreement aims to limit global temperature rise\", 1),\n",
    "        (\"Solar power generation is increasing worldwide\", 0),\n",
    "        (\"Load forecasting helps utilities manage energy demand efficiently\", 0),\n",
    "        (\"Transitioning to clean energy is necessary for sustainable development\", 1),\n",
    "        (\"Climate models predict more extreme weather events in the future\", 1),\n",
    "        (\"Improved energy efficiency reduces greenhouse gas emissions\", 0),\n",
    "        (\"Investing in wind farms helps reduce reliance on fossil fuels\", 1),\n",
    "        (\"Land use changes affect regional climate patterns\", 1),\n",
    "        (\"Hydropower plants provide clean and renewable energy\", 1),\n",
    "        (\"The electrification of transportation reduces carbon emissions\", 1),\n",
    "        (\"Carbon pricing mechanisms incentivize emission reductions\", 0),\n",
    "        (\"Urbanization alters local microclimates and energy demand\", 0),\n",
    "        (\"Smart grids optimize energy distribution and reduce wastage\", 1),\n",
    "        (\"Afforestation and reforestation projects sequester carbon dioxide\", 1),\n",
    "    ]\n",
    ")"
   ]
  },
  {
   "cell_type": "code",
   "execution_count": 24,
   "metadata": {},
   "outputs": [
    {
     "data": {
      "application/vnd.jupyter.widget-view+json": {
       "model_id": "4f08b9391d4c4bea883253b126305a93",
       "version_major": 2,
       "version_minor": 0
      },
      "text/plain": [
       "Map:   0%|          | 0/15 [00:00<?, ? examples/s]"
      ]
     },
     "metadata": {},
     "output_type": "display_data"
    },
    {
     "data": {
      "text/plain": [
       "{'text': 'Renewable energy is essential for mitigating climate change',\n",
       " 'label': 1,\n",
       " 'input_ids': [0,\n",
       "  34837,\n",
       "  2753,\n",
       "  868,\n",
       "  1007,\n",
       "  16,\n",
       "  4499,\n",
       "  13,\n",
       "  31904,\n",
       "  2147,\n",
       "  464,\n",
       "  2,\n",
       "  1,\n",
       "  1,\n",
       "  1,\n",
       "  1],\n",
       " 'attention_mask': [1, 1, 1, 1, 1, 1, 1, 1, 1, 1, 1, 1, 0, 0, 0, 0]}"
      ]
     },
     "execution_count": 24,
     "metadata": {},
     "output_type": "execute_result"
    }
   ],
   "source": [
    "# To use these with transformers, we are going to need to get them into the right format.\n",
    "from datasets import Dataset\n",
    "from transformers import AutoTokenizer\n",
    "\n",
    "# First we'll put them into a HuggingFace Dataset object\n",
    "dataset = Dataset.from_dict({\"text\": texts, \"label\": y})\n",
    "\n",
    "# And now we need to tokenize the texts, using the pretrained tokenizer from climatebert\n",
    "model_name = \"climatebert/distilroberta-base-climate-f\"\n",
    "tokenizer = AutoTokenizer.from_pretrained(model_name)\n",
    "\n",
    "\n",
    "def tokenize_function(examples):\n",
    "    return tokenizer(examples[\"text\"], padding=\"longest\", truncation=True)\n",
    "\n",
    "\n",
    "tokenized_dataset = dataset.map(tokenize_function, batched=True)\n",
    "# input_ids are the token ids for each token in the text\n",
    "# attention_mask is a mask that tells the model which tokens to pay attention to and which to ignore\n",
    "# Note the attention mask has 0s for padded tokens.\n",
    "tokenized_dataset[0]"
   ]
  },
  {
   "cell_type": "code",
   "execution_count": 25,
   "metadata": {},
   "outputs": [
    {
     "data": {
      "application/vnd.jupyter.widget-view+json": {
       "model_id": "9203fa05968b484491e82ef60b2bc4cb",
       "version_major": 2,
       "version_minor": 0
      },
      "text/plain": [
       "Map:   0%|          | 0/15 [00:00<?, ? examples/s]"
      ]
     },
     "metadata": {},
     "output_type": "display_data"
    },
    {
     "data": {
      "text/plain": [
       "{'text': 'Renewable energy is essential for mitigating climate change',\n",
       " 'label': 1,\n",
       " 'input_ids': [0,\n",
       "  34837,\n",
       "  2753,\n",
       "  868,\n",
       "  1007,\n",
       "  16,\n",
       "  4499,\n",
       "  13,\n",
       "  31904,\n",
       "  2147,\n",
       "  464,\n",
       "  2,\n",
       "  1,\n",
       "  1,\n",
       "  1,\n",
       "  1],\n",
       " 'attention_mask': [1, 1, 1, 1, 1, 1, 1, 1, 1, 1, 1, 1, 0, 0, 0, 0]}"
      ]
     },
     "execution_count": 25,
     "metadata": {},
     "output_type": "execute_result"
    }
   ],
   "source": [
    "# We can wrap this into one function that turns any set of texts (and optional labels)\n",
    "# into a tokenized huggingface dataset\n",
    "def datasetify(x, tokenizer, y=None):\n",
    "    data_dict = {\"text\": x}\n",
    "    if y is not None:\n",
    "        data_dict[\"label\"] = y\n",
    "    dataset = Dataset.from_dict(data_dict)\n",
    "\n",
    "    def tokenize_function(examples):\n",
    "        return tokenizer(examples[\"text\"], padding=\"longest\", truncation=True)\n",
    "\n",
    "    return dataset.map(tokenize_function, batched=True)\n",
    "\n",
    "\n",
    "tokenized_dataset = datasetify(texts, tokenizer, y)\n",
    "tokenized_dataset[0]"
   ]
  },
  {
   "cell_type": "code",
   "execution_count": 26,
   "metadata": {},
   "outputs": [
    {
     "name": "stderr",
     "output_type": "stream",
     "text": [
      "Some weights of RobertaForSequenceClassification were not initialized from the model checkpoint at climatebert/distilroberta-base-climate-f and are newly initialized: ['classifier.dense.bias', 'classifier.dense.weight', 'classifier.out_proj.bias', 'classifier.out_proj.weight']\n",
      "You should probably TRAIN this model on a down-stream task to be able to use it for predictions and inference.\n"
     ]
    }
   ],
   "source": [
    "from transformers import AutoModelForSequenceClassification, AutoTokenizer, pipeline\n",
    "\n",
    "# Load pre-trained model and tokenizer\n",
    "model_name = \"climatebert/distilroberta-base-climate-f\"\n",
    "model = AutoModelForSequenceClassification.from_pretrained(model_name)\n",
    "tokenizer = AutoTokenizer.from_pretrained(model_name)"
   ]
  },
  {
   "cell_type": "code",
   "execution_count": 27,
   "metadata": {},
   "outputs": [],
   "source": [
    "# To generate predictions, we just need to supply a dataset to the predict method\n",
    "new_texts = [\n",
    "    \"climate change is impacting terrestrial ecosystems\",\n",
    "    \"Machine Learning will solve climate change\",\n",
    "    \"Supreme court made a series of decisions on personal freedom\",\n",
    "]\n",
    "\n",
    "# Tokenize the new texts\n",
    "tokenized_texts = tokenizer(new_texts, padding=True, truncation=True, return_tensors=\"pt\")"
   ]
  },
  {
   "cell_type": "code",
   "execution_count": 28,
   "metadata": {},
   "outputs": [
    {
     "name": "stdout",
     "output_type": "stream",
     "text": [
      "Text: climate change is impacting terrestrial ecosystems\n",
      "Predicted label: LABEL_0\n",
      "Confidence score: 0.501624584197998\n",
      "\n",
      "Text: Machine Learning will solve climate change\n",
      "Predicted label: LABEL_0\n",
      "Confidence score: 0.5007845163345337\n",
      "\n",
      "Text: Supreme court made a series of decisions on personal freedom\n",
      "Predicted label: LABEL_0\n",
      "Confidence score: 0.5035682916641235\n",
      "\n"
     ]
    }
   ],
   "source": [
    "# Tokenize the new texts\n",
    "tokenized_texts = tokenizer(new_texts, padding=True, truncation=True, return_tensors=\"pt\")\n",
    "\n",
    "# Perform predictions\n",
    "classifier = pipeline(\"sentiment-analysis\", model=model, tokenizer=tokenizer)\n",
    "predictions = classifier(new_texts)\n",
    "\n",
    "# Display predictions\n",
    "for text, prediction in zip(new_texts, predictions):\n",
    "    print(f\"Text: {text}\")\n",
    "    print(f\"Predicted label: {prediction['label']}\")\n",
    "    print(f\"Confidence score: {prediction['score']}\")\n",
    "    print()\n"
   ]
  },
  {
   "cell_type": "code",
   "execution_count": 29,
   "metadata": {},
   "outputs": [],
   "source": [
    "samples = df[df[\"INCLUDE\"] == 1].sample(5).index\n",
    "X = df.iloc[samples][\"abstract\"]\n",
    "y = df.iloc[samples][impacts].values"
   ]
  },
  {
   "cell_type": "markdown",
   "metadata": {},
   "source": [
    "Model Evaluation"
   ]
  },
  {
   "cell_type": "code",
   "execution_count": 30,
   "metadata": {},
   "outputs": [
    {
     "name": "stdout",
     "output_type": "stream",
     "text": [
      "8 correct predictions out of 10 total predictions.\n",
      "Accuracy = 80%\n"
     ]
    }
   ],
   "source": [
    "import numpy as np\n",
    "\n",
    "# Let's examine\n",
    "y_pred = np.array([0, 0, 0, 0, 0, 1, 1, 0, 0, 0])\n",
    "y_true = np.array([0, 0, 0, 0, 1, 1, 0, 0, 0, 0])\n",
    "\n",
    "def calculate_accuracy(y_true, y_pred):\n",
    "    total_predictions = y_true.size\n",
    "    correct_predictions = (y_pred==y_true).sum()\n",
    "    accuracy = correct_predictions / total_predictions\n",
    "    print(f\"{correct_predictions} correct predictions out of {total_predictions} total predictions.\\nAccuracy = {accuracy:.0%}\")\n",
    "\n",
    "calculate_accuracy(y_true, y_pred)"
   ]
  },
  {
   "cell_type": "code",
   "execution_count": 31,
   "metadata": {},
   "outputs": [
    {
     "name": "stdout",
     "output_type": "stream",
     "text": [
      "8 correct predictions out of 10 total predictions.\n",
      "Accuracy = 80%\n"
     ]
    }
   ],
   "source": [
    "calculate_accuracy(y_true, np.zeros(y_true.size))"
   ]
  },
  {
   "cell_type": "markdown",
   "metadata": {},
   "source": [
    "Precision and Recall"
   ]
  },
  {
   "cell_type": "code",
   "execution_count": 32,
   "metadata": {},
   "outputs": [
    {
     "name": "stdout",
     "output_type": "stream",
     "text": [
      "1 out of 2 predicted positives are actually positive\n",
      "precision = 50%\n",
      "0 out of 0 predicted positives are actually positive\n",
      "precision = nan%\n"
     ]
    },
    {
     "name": "stderr",
     "output_type": "stream",
     "text": [
      "/var/folders/lv/f438lqnj5k76dlkjd35vm4wr0000gn/T/ipykernel_69913/4293625237.py:4: RuntimeWarning: invalid value encountered in scalar divide\n",
      "  precision = tps / positive_predictions\n"
     ]
    }
   ],
   "source": [
    "def calculate_precision(y_true, y_pred):\n",
    "    tps = (y_true+y_pred==2).sum()\n",
    "    positive_predictions = (y_pred==1).sum()\n",
    "    precision = tps / positive_predictions\n",
    "    print(f\"{tps} out of {positive_predictions} predicted positives are actually positive\")\n",
    "    print(f\"precision = {precision:.0%}\")\n",
    "\n",
    "# Our predictions achieve a much more modest precision score\n",
    "calculate_precision(y_true, y_pred)\n",
    "# Whereas predicting all zeros gives us NA result as the denominator is zero\n",
    "calculate_precision(y_true, np.zeros(y_true.size))"
   ]
  },
  {
   "cell_type": "code",
   "execution_count": 33,
   "metadata": {},
   "outputs": [
    {
     "name": "stdout",
     "output_type": "stream",
     "text": [
      "1 out of 2 true samples are identified\n",
      "recall = 50%\n",
      "0 out of 2 true samples are identified\n",
      "recall = 0%\n"
     ]
    }
   ],
   "source": [
    "def calculate_recall(y_true, y_pred):\n",
    "    tps = (y_true+y_pred==2).sum()\n",
    "    positive_samples = (y_true==1).sum()\n",
    "    recall = tps / positive_samples\n",
    "    print(f\"{tps} out of {positive_samples} true samples are identified\")\n",
    "    print(f\"recall = {recall:.0%}\")\n",
    "\n",
    "# Recall is also more modest with our predictions\n",
    "calculate_recall(y_true, y_pred)\n",
    "# And a prediction of all zeros has zero recall\n",
    "calculate_recall(y_true, np.zeros(y_true.size))"
   ]
  }
 ],
 "metadata": {
  "kernelspec": {
   "display_name": "Python 3",
   "language": "python",
   "name": "python3"
  },
  "language_info": {
   "codemirror_mode": {
    "name": "ipython",
    "version": 3
   },
   "file_extension": ".py",
   "mimetype": "text/x-python",
   "name": "python",
   "nbconvert_exporter": "python",
   "pygments_lexer": "ipython3",
   "version": "3.undefined.undefined"
  }
 },
 "nbformat": 4,
 "nbformat_minor": 2
}
